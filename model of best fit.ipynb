{
 "cells": [
  {
   "cell_type": "code",
   "execution_count": 15,
   "id": "2badd580",
   "metadata": {},
   "outputs": [],
   "source": [
    "import numpy as np\n",
    "from scipy.optimize import curve_fit\n",
    "%matplotlib inline\n",
    "import matplotlib.pyplot as plt\n"
   ]
  },
  {
   "cell_type": "code",
   "execution_count": 16,
   "id": "0dc40ba1",
   "metadata": {},
   "outputs": [],
   "source": [
    "date, temperature = np.loadtxt('weather_data_nyc_centralpark_2016_1_.txt', delimiter=',', unpack=True)\n",
    "keep = np.abs(temperature) < 90\n",
    "date = date[keep]\n",
    "temp = temperature[keep]"
   ]
  },
  {
   "cell_type": "code",
   "execution_count": 17,
   "id": "fe1db276",
   "metadata": {},
   "outputs": [],
   "source": [
    "def line(t, a, b, c):\n",
    "    return a*np.cos(2*np.pi*t + b) + c"
   ]
  },
  {
   "cell_type": "code",
   "execution_count": 19,
   "id": "faa96968",
   "metadata": {},
   "outputs": [],
   "source": [
    " popt, pcov = curve_fit(line, date, temperature)"
   ]
  },
  {
   "cell_type": "code",
   "execution_count": null,
   "id": "e47b7494",
   "metadata": {},
   "outputs": [],
   "source": [
    "plt.errorbar(date, temperature, yerr=temp,fmt='.', label='Data')\n",
    "xfine = np.linspace(min(date), max(date), 100)\n",
    "plt.plot(xfine, line(xfine, *popt), 'r-', label='best fit')\n",
    "plt.xlabel('Date')\n",
    "plt.ylabel('Temperature')\n",
    "plt.legend()"
   ]
  }
 ],
 "metadata": {
  "kernelspec": {
   "display_name": "Python 3 (ipykernel)",
   "language": "python",
   "name": "python3"
  },
  "language_info": {
   "codemirror_mode": {
    "name": "ipython",
    "version": 3
   },
   "file_extension": ".py",
   "mimetype": "text/x-python",
   "name": "python",
   "nbconvert_exporter": "python",
   "pygments_lexer": "ipython3",
   "version": "3.9.13"
  }
 },
 "nbformat": 4,
 "nbformat_minor": 5
}
